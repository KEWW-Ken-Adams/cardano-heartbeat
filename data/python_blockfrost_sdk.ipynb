{
 "cells": [
  {
   "cell_type": "code",
   "execution_count": 1,
   "metadata": {},
   "outputs": [],
   "source": [
    "#Importing packages\n",
    "#\n",
    "# You can delete whatever package(s) you want..\n",
    "#\n",
    "import os\n",
    "import json\n",
    "import time\n",
    "import requests\n",
    "import math as m\n",
    "import pandas as pd\n",
    "import matplotlib.pyplot as plt\n",
    "import numpy as np\n",
    "\n",
    "\n",
    "\n",
    "# Leave This code here and lookup at pandas documentation \n",
    "# if you need to know about chained assignments\n",
    "pd.options.mode.chained_assignment = None  # default='warn'\n",
    "\n",
    "# Because most of my data sets I have made can have up to 30+ columns and 20+ rows\n",
    "# code below will increase pandas defaults for max rows \n",
    "# and columns that you can display in a Juptyer Notebook\n",
    "pd.options.display.max_columns = 60\n",
    "pd.options.display.max_rows = 90"
   ]
  },
  {
   "cell_type": "code",
   "execution_count": 2,
   "metadata": {},
   "outputs": [],
   "source": [
    "# Get our block frost api key from the file\n",
    "with open('keys.txt', 'r') as file:\n",
    "    api_key = file.read().replace('\\n', '')\n",
    "api_key = api_key.split('=')[1]"
   ]
  },
  {
   "cell_type": "code",
   "execution_count": 3,
   "metadata": {},
   "outputs": [],
   "source": [
    "from blockfrost import BlockFrostApi, ApiError, ApiUrls\n",
    "\n",
    "api = BlockFrostApi(\n",
    "\tproject_id=api_key,\n",
    "\tbase_url=ApiUrls.mainnet.value,\n",
    ")"
   ]
  },
  {
   "cell_type": "code",
   "execution_count": 4,
   "metadata": {},
   "outputs": [
    {
     "name": "stdout",
     "output_type": "stream",
     "text": [
      "Namespace(is_healthy=True)\n",
      "{'is_healthy': True}\n",
      "   is_healthy\n",
      "0        True\n",
      "    epoch    amount                                            pool_id\n",
      "0     221  16576013  pool15yyxtkhz64p7a8cnax9l7u82s9t9hdhyxsa3tdm97...\n",
      "1     222  17132278  pool15yyxtkhz64p7a8cnax9l7u82s9t9hdhyxsa3tdm97...\n",
      "2     223  15649019  pool15yyxtkhz64p7a8cnax9l7u82s9t9hdhyxsa3tdm97...\n",
      "3     224  17281719  pool15yyxtkhz64p7a8cnax9l7u82s9t9hdhyxsa3tdm97...\n",
      "4     225  18604433  pool15yyxtkhz64p7a8cnax9l7u82s9t9hdhyxsa3tdm97...\n",
      "5     226  12591619  pool15yyxtkhz64p7a8cnax9l7u82s9t9hdhyxsa3tdm97...\n",
      "6     227  17166845  pool15yyxtkhz64p7a8cnax9l7u82s9t9hdhyxsa3tdm97...\n",
      "7     228  17391311  pool15yyxtkhz64p7a8cnax9l7u82s9t9hdhyxsa3tdm97...\n",
      "8     231  13442322  pool15yyxtkhz64p7a8cnax9l7u82s9t9hdhyxsa3tdm97...\n",
      "9     234   4412912  pool16kus5xvdysgmtjp0hhlwt72tsm0yn2zcn0a8wg9em...\n",
      "10    235   5175375  pool16kus5xvdysgmtjp0hhlwt72tsm0yn2zcn0a8wg9em...\n",
      "11    236   8040874  pool16kus5xvdysgmtjp0hhlwt72tsm0yn2zcn0a8wg9em...\n",
      "12    237   6958551  pool16kus5xvdysgmtjp0hhlwt72tsm0yn2zcn0a8wg9em...\n",
      "13    238   9293444  pool16kus5xvdysgmtjp0hhlwt72tsm0yn2zcn0a8wg9em...\n",
      "14    239   7555254  pool16kus5xvdysgmtjp0hhlwt72tsm0yn2zcn0a8wg9em...\n",
      "15    240     34158  pool16kus5xvdysgmtjp0hhlwt72tsm0yn2zcn0a8wg9em...\n",
      "16    241     26312  pool16kus5xvdysgmtjp0hhlwt72tsm0yn2zcn0a8wg9em...\n",
      "17    242     46300  pool16kus5xvdysgmtjp0hhlwt72tsm0yn2zcn0a8wg9em...\n",
      "18    243     47400  pool16kus5xvdysgmtjp0hhlwt72tsm0yn2zcn0a8wg9em...\n",
      "19    244     36561  pool16kus5xvdysgmtjp0hhlwt72tsm0yn2zcn0a8wg9em...\n",
      "20\n",
      "221\n",
      "82\n",
      "shelley\n",
      "lovelace\n"
     ]
    }
   ],
   "source": [
    "try:\n",
    "    health = api.health()\n",
    "    print(health)   # prints object:    HealthResponse(is_healthy=True)\n",
    "    health = api.health(return_type='json') # Can be useful if python wrapper is behind api version\n",
    "    print(health)   # prints json:      {\"is_healthy\":True}\n",
    "    health = api.health(return_type='pandas')\n",
    "    print(health)   # prints Dataframe:         is_healthy\n",
    "                    #                       0         True\n",
    "\n",
    "    \n",
    "    account_rewards = api.account_rewards(\n",
    "        stake_address='stake1ux3g2c9dx2nhhehyrezyxpkstartcqmu9hk63qgfkccw5rqttygt7',\n",
    "        count=20,\n",
    "        return_type='pandas'\n",
    "    )\n",
    "    print(account_rewards)  # prints 221\n",
    "    print(len(account_rewards))  # prints 20\n",
    "\n",
    "    account_rewards = api.account_rewards(\n",
    "        stake_address='stake1ux3g2c9dx2nhhehyrezyxpkstartcqmu9hk63qgfkccw5rqttygt7',\n",
    "        count=20,\n",
    "        gather_pages=True, # will collect all pages\n",
    "    )\n",
    "    print(account_rewards[0].epoch)  # prints 221\n",
    "    print(len(account_rewards))  # prints 57\n",
    "\n",
    "    address = api.address(\n",
    "        address='addr1qxqs59lphg8g6qndelq8xwqn60ag3aeyfcp33c2kdp46a09re5df3pzwwmyq946axfcejy5n4x0y99wqpgtp2gd0k09qsgy6pz')\n",
    "    print(address.type)  # prints 'shelley'\n",
    "    for amount in address.amount:\n",
    "        print(amount.unit)  # prints 'lovelace'\n",
    "\n",
    "except ApiError as e:\n",
    "    print(e)"
   ]
  },
  {
   "cell_type": "markdown",
   "metadata": {},
   "source": [
    "# This code below is used to get all the Pool_ids (bech32 format) for all registered pools on Cardano"
   ]
  },
  {
   "cell_type": "code",
   "execution_count": 13,
   "metadata": {},
   "outputs": [],
   "source": [
    "df = pd.DataFrame()\n",
    "\n",
    "for i in range(1,100):\n",
    "        try:\n",
    "                pool_ids = api.pools(\n",
    "                        gather_pages=True,\n",
    "                        count=100,\n",
    "                        page=i,)\n",
    "                if len(pool_ids)==0:\n",
    "                        break\n",
    "                pools_list = pd.DataFrame(pool_ids)\n",
    "                df = df.append(pools_list)\n",
    "        except ApiError as e:\n",
    "                print(e)\n"
   ]
  },
  {
   "cell_type": "code",
   "execution_count": 14,
   "metadata": {},
   "outputs": [
    {
     "data": {
      "text/html": [
       "<div>\n",
       "<style scoped>\n",
       "    .dataframe tbody tr th:only-of-type {\n",
       "        vertical-align: middle;\n",
       "    }\n",
       "\n",
       "    .dataframe tbody tr th {\n",
       "        vertical-align: top;\n",
       "    }\n",
       "\n",
       "    .dataframe thead th {\n",
       "        text-align: right;\n",
       "    }\n",
       "</style>\n",
       "<table border=\"1\" class=\"dataframe\">\n",
       "  <thead>\n",
       "    <tr style=\"text-align: right;\">\n",
       "      <th></th>\n",
       "      <th>0</th>\n",
       "    </tr>\n",
       "  </thead>\n",
       "  <tbody>\n",
       "    <tr>\n",
       "      <th>0</th>\n",
       "      <td>pool1z5uqdk7dzdxaae5633fqfcu2eqzy3a3rgtuvy087f...</td>\n",
       "    </tr>\n",
       "    <tr>\n",
       "      <th>1</th>\n",
       "      <td>pool1pu5jlj4q9w9jlxeu370a3c9myx47md5j5m2str0na...</td>\n",
       "    </tr>\n",
       "    <tr>\n",
       "      <th>2</th>\n",
       "      <td>pool1c8k78ny3xvsfgenhf4yzvpzwgzxmz0t0um0h2xnn2...</td>\n",
       "    </tr>\n",
       "    <tr>\n",
       "      <th>3</th>\n",
       "      <td>pool1q80jjs53w0fx836n8g38gtdwr8ck5zre3da90peux...</td>\n",
       "    </tr>\n",
       "    <tr>\n",
       "      <th>4</th>\n",
       "      <td>pool1ddskftmsscw92d7vnj89pldwx5feegkgcmamgt5t0...</td>\n",
       "    </tr>\n",
       "    <tr>\n",
       "      <th>...</th>\n",
       "      <td>...</td>\n",
       "    </tr>\n",
       "    <tr>\n",
       "      <th>27</th>\n",
       "      <td>pool1mnuwy85gq5wvl426dwh4zz5laryatvrvh6sw8dlvq...</td>\n",
       "    </tr>\n",
       "    <tr>\n",
       "      <th>28</th>\n",
       "      <td>pool14glhqr7989jz4yu0hnytpw62xlq0666sy075ztufd...</td>\n",
       "    </tr>\n",
       "    <tr>\n",
       "      <th>29</th>\n",
       "      <td>pool1ttxtgplmy2v7t9s56gm3xxhsyxe68kpx0vu3utts0...</td>\n",
       "    </tr>\n",
       "    <tr>\n",
       "      <th>30</th>\n",
       "      <td>pool1jj674cqm2uaexhwjkuv23nav6egcwz9f5xls76nfh...</td>\n",
       "    </tr>\n",
       "    <tr>\n",
       "      <th>31</th>\n",
       "      <td>pool1pg9twqvv0e9ds3q4n9dcd9xfuu0x4xu0ra9rttq0y...</td>\n",
       "    </tr>\n",
       "  </tbody>\n",
       "</table>\n",
       "<p>3132 rows × 1 columns</p>\n",
       "</div>"
      ],
      "text/plain": [
       "                                                    0\n",
       "0   pool1z5uqdk7dzdxaae5633fqfcu2eqzy3a3rgtuvy087f...\n",
       "1   pool1pu5jlj4q9w9jlxeu370a3c9myx47md5j5m2str0na...\n",
       "2   pool1c8k78ny3xvsfgenhf4yzvpzwgzxmz0t0um0h2xnn2...\n",
       "3   pool1q80jjs53w0fx836n8g38gtdwr8ck5zre3da90peux...\n",
       "4   pool1ddskftmsscw92d7vnj89pldwx5feegkgcmamgt5t0...\n",
       "..                                                ...\n",
       "27  pool1mnuwy85gq5wvl426dwh4zz5laryatvrvh6sw8dlvq...\n",
       "28  pool14glhqr7989jz4yu0hnytpw62xlq0666sy075ztufd...\n",
       "29  pool1ttxtgplmy2v7t9s56gm3xxhsyxe68kpx0vu3utts0...\n",
       "30  pool1jj674cqm2uaexhwjkuv23nav6egcwz9f5xls76nfh...\n",
       "31  pool1pg9twqvv0e9ds3q4n9dcd9xfuu0x4xu0ra9rttq0y...\n",
       "\n",
       "[3132 rows x 1 columns]"
      ]
     },
     "execution_count": 14,
     "metadata": {},
     "output_type": "execute_result"
    }
   ],
   "source": [
    "df"
   ]
  },
  {
   "cell_type": "markdown",
   "metadata": {},
   "source": [
    "## Now let's get the list of retiring pools and then we will cross reference it with the list of all the pools and then remove any retiring pools"
   ]
  },
  {
   "cell_type": "code",
   "execution_count": 7,
   "metadata": {},
   "outputs": [],
   "source": [
    "df2 = pd.DataFrame()\n",
    "\n",
    "for i in range(1,50):\n",
    "        try:\n",
    "                retired_pools = api.pools_retiring(gather_pages=True, count=100, page=i)\n",
    "                pools = pd.DataFrame(retired_pools)\n",
    "                df2 = df2.append(pools)\n",
    "        except ApiError as e:\n",
    "                print(e)"
   ]
  },
  {
   "cell_type": "code",
   "execution_count": 8,
   "metadata": {},
   "outputs": [
    {
     "data": {
      "text/html": [
       "<div>\n",
       "<style scoped>\n",
       "    .dataframe tbody tr th:only-of-type {\n",
       "        vertical-align: middle;\n",
       "    }\n",
       "\n",
       "    .dataframe tbody tr th {\n",
       "        vertical-align: top;\n",
       "    }\n",
       "\n",
       "    .dataframe thead th {\n",
       "        text-align: right;\n",
       "    }\n",
       "</style>\n",
       "<table border=\"1\" class=\"dataframe\">\n",
       "  <thead>\n",
       "    <tr style=\"text-align: right;\">\n",
       "      <th></th>\n",
       "      <th>0</th>\n",
       "    </tr>\n",
       "  </thead>\n",
       "  <tbody>\n",
       "    <tr>\n",
       "      <th>0</th>\n",
       "      <td>Namespace(pool_id='pool1a3u8zuz7fqavxgl48s8k37...</td>\n",
       "    </tr>\n",
       "    <tr>\n",
       "      <th>1</th>\n",
       "      <td>Namespace(pool_id='pool14zx5y80c5m5x5hch6e57pc...</td>\n",
       "    </tr>\n",
       "    <tr>\n",
       "      <th>2</th>\n",
       "      <td>Namespace(pool_id='pool15eera5yr3eur7tz067wfpp...</td>\n",
       "    </tr>\n",
       "    <tr>\n",
       "      <th>3</th>\n",
       "      <td>Namespace(pool_id='pool1wqzdqsm02tust35dds3u7k...</td>\n",
       "    </tr>\n",
       "    <tr>\n",
       "      <th>4</th>\n",
       "      <td>Namespace(pool_id='pool1qgm942xc95w8f6qsx2vd35...</td>\n",
       "    </tr>\n",
       "    <tr>\n",
       "      <th>5</th>\n",
       "      <td>Namespace(pool_id='pool1ffuh4tz68rmv9tcdfqazlu...</td>\n",
       "    </tr>\n",
       "    <tr>\n",
       "      <th>6</th>\n",
       "      <td>Namespace(pool_id='pool1hkcy0k7fjlcwtuyh6wsdn2...</td>\n",
       "    </tr>\n",
       "    <tr>\n",
       "      <th>7</th>\n",
       "      <td>Namespace(pool_id='pool1pg9twqvv0e9ds3q4n9dcd9...</td>\n",
       "    </tr>\n",
       "  </tbody>\n",
       "</table>\n",
       "</div>"
      ],
      "text/plain": [
       "                                                   0\n",
       "0  Namespace(pool_id='pool1a3u8zuz7fqavxgl48s8k37...\n",
       "1  Namespace(pool_id='pool14zx5y80c5m5x5hch6e57pc...\n",
       "2  Namespace(pool_id='pool15eera5yr3eur7tz067wfpp...\n",
       "3  Namespace(pool_id='pool1wqzdqsm02tust35dds3u7k...\n",
       "4  Namespace(pool_id='pool1qgm942xc95w8f6qsx2vd35...\n",
       "5  Namespace(pool_id='pool1ffuh4tz68rmv9tcdfqazlu...\n",
       "6  Namespace(pool_id='pool1hkcy0k7fjlcwtuyh6wsdn2...\n",
       "7  Namespace(pool_id='pool1pg9twqvv0e9ds3q4n9dcd9..."
      ]
     },
     "execution_count": 8,
     "metadata": {},
     "output_type": "execute_result"
    }
   ],
   "source": [
    "df2"
   ]
  },
  {
   "cell_type": "code",
   "execution_count": null,
   "metadata": {},
   "outputs": [],
   "source": [
    "df3 = pd.DataFrame()\n",
    "\n",
    "for i in range(len(df)):\n",
    "        "
   ]
  }
 ],
 "metadata": {
  "interpreter": {
   "hash": "71a871210673e5e8ba97a6a6f585f3f24a608c94c27748339ca3a612499a60e8"
  },
  "kernelspec": {
   "display_name": "Python 3.9.7 64-bit ('base': conda)",
   "language": "python",
   "name": "python3"
  },
  "language_info": {
   "codemirror_mode": {
    "name": "ipython",
    "version": 3
   },
   "file_extension": ".py",
   "mimetype": "text/x-python",
   "name": "python",
   "nbconvert_exporter": "python",
   "pygments_lexer": "ipython3",
   "version": "3.9.7"
  },
  "orig_nbformat": 4
 },
 "nbformat": 4,
 "nbformat_minor": 2
}
